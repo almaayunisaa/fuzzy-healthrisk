{
 "cells": [
  {
   "cell_type": "code",
   "execution_count": 1,
   "id": "bf71197a-cf9c-4a37-94b0-3f4353e42fbd",
   "metadata": {},
   "outputs": [],
   "source": [
    "import pandas as pd\n",
    "df = pd.read_csv('pollution_us_2000_2016.csv')"
   ]
  },
  {
   "cell_type": "code",
   "execution_count": 2,
   "id": "d3ce5834-fb8c-4b58-b92e-7c53e18a597b",
   "metadata": {},
   "outputs": [
    {
     "name": "stdout",
     "output_type": "stream",
     "text": [
      "         Unnamed: 0  State Code  County Code  Site Num  \\\n",
      "0                 0           4           13      3002   \n",
      "1                 1           4           13      3002   \n",
      "2                 2           4           13      3002   \n",
      "3                 3           4           13      3002   \n",
      "4                 4           4           13      3002   \n",
      "...             ...         ...          ...       ...   \n",
      "1746656       24599          56           21       100   \n",
      "1746657       24600          56           21       100   \n",
      "1746658       24601          56           21       100   \n",
      "1746659       24602          56           21       100   \n",
      "1746660       24603          56           21       100   \n",
      "\n",
      "                                         Address    State    County  \\\n",
      "0        1645 E ROOSEVELT ST-CENTRAL PHOENIX STN  Arizona  Maricopa   \n",
      "1        1645 E ROOSEVELT ST-CENTRAL PHOENIX STN  Arizona  Maricopa   \n",
      "2        1645 E ROOSEVELT ST-CENTRAL PHOENIX STN  Arizona  Maricopa   \n",
      "3        1645 E ROOSEVELT ST-CENTRAL PHOENIX STN  Arizona  Maricopa   \n",
      "4        1645 E ROOSEVELT ST-CENTRAL PHOENIX STN  Arizona  Maricopa   \n",
      "...                                          ...      ...       ...   \n",
      "1746656    NCore - North Cheyenne Soccer Complex  Wyoming   Laramie   \n",
      "1746657    NCore - North Cheyenne Soccer Complex  Wyoming   Laramie   \n",
      "1746658    NCore - North Cheyenne Soccer Complex  Wyoming   Laramie   \n",
      "1746659    NCore - North Cheyenne Soccer Complex  Wyoming   Laramie   \n",
      "1746660    NCore - North Cheyenne Soccer Complex  Wyoming   Laramie   \n",
      "\n",
      "                  City  Date Local          NO2 Units  ...          SO2 Units  \\\n",
      "0              Phoenix  2000-01-01  Parts per billion  ...  Parts per billion   \n",
      "1              Phoenix  2000-01-01  Parts per billion  ...  Parts per billion   \n",
      "2              Phoenix  2000-01-01  Parts per billion  ...  Parts per billion   \n",
      "3              Phoenix  2000-01-01  Parts per billion  ...  Parts per billion   \n",
      "4              Phoenix  2000-01-02  Parts per billion  ...  Parts per billion   \n",
      "...                ...         ...                ...  ...                ...   \n",
      "1746656  Not in a city  2016-03-30  Parts per billion  ...  Parts per billion   \n",
      "1746657  Not in a city  2016-03-31  Parts per billion  ...  Parts per billion   \n",
      "1746658  Not in a city  2016-03-31  Parts per billion  ...  Parts per billion   \n",
      "1746659  Not in a city  2016-03-31  Parts per billion  ...  Parts per billion   \n",
      "1746660  Not in a city  2016-03-31  Parts per billion  ...  Parts per billion   \n",
      "\n",
      "         SO2 Mean  SO2 1st Max Value  SO2 1st Max Hour SO2 AQI  \\\n",
      "0        3.000000                9.0                21    13.0   \n",
      "1        3.000000                9.0                21    13.0   \n",
      "2        2.975000                6.6                23     NaN   \n",
      "3        2.975000                6.6                23     NaN   \n",
      "4        1.958333                3.0                22     4.0   \n",
      "...           ...                ...               ...     ...   \n",
      "1746656  0.000000                0.0                 2     NaN   \n",
      "1746657 -0.022727                0.0                 0     0.0   \n",
      "1746658 -0.022727                0.0                 0     0.0   \n",
      "1746659  0.000000                0.0                 5     NaN   \n",
      "1746660  0.000000                0.0                 5     NaN   \n",
      "\n",
      "                  CO Units   CO Mean  CO 1st Max Value  CO 1st Max Hour CO AQI  \n",
      "0        Parts per million  1.145833             4.200               21    NaN  \n",
      "1        Parts per million  0.878947             2.200               23   25.0  \n",
      "2        Parts per million  1.145833             4.200               21    NaN  \n",
      "3        Parts per million  0.878947             2.200               23   25.0  \n",
      "4        Parts per million  0.850000             1.600               23    NaN  \n",
      "...                    ...       ...               ...              ...    ...  \n",
      "1746656  Parts per million  0.091667             0.100                2    1.0  \n",
      "1746657  Parts per million  0.067714             0.127                0    NaN  \n",
      "1746658  Parts per million  0.100000             0.100                0    1.0  \n",
      "1746659  Parts per million  0.067714             0.127                0    NaN  \n",
      "1746660  Parts per million  0.100000             0.100                0    1.0  \n",
      "\n",
      "[1746661 rows x 29 columns]\n"
     ]
    }
   ],
   "source": [
    "print(df)"
   ]
  },
  {
   "cell_type": "code",
   "execution_count": 3,
   "id": "884d8636-7009-4138-b14d-4018a31411c6",
   "metadata": {},
   "outputs": [
    {
     "name": "stdout",
     "output_type": "stream",
     "text": [
      "<class 'pandas.core.frame.DataFrame'>\n",
      "RangeIndex: 1746661 entries, 0 to 1746660\n",
      "Data columns (total 29 columns):\n",
      " #   Column             Dtype  \n",
      "---  ------             -----  \n",
      " 0   Unnamed: 0         int64  \n",
      " 1   State Code         int64  \n",
      " 2   County Code        int64  \n",
      " 3   Site Num           int64  \n",
      " 4   Address            object \n",
      " 5   State              object \n",
      " 6   County             object \n",
      " 7   City               object \n",
      " 8   Date Local         object \n",
      " 9   NO2 Units          object \n",
      " 10  NO2 Mean           float64\n",
      " 11  NO2 1st Max Value  float64\n",
      " 12  NO2 1st Max Hour   int64  \n",
      " 13  NO2 AQI            int64  \n",
      " 14  O3 Units           object \n",
      " 15  O3 Mean            float64\n",
      " 16  O3 1st Max Value   float64\n",
      " 17  O3 1st Max Hour    int64  \n",
      " 18  O3 AQI             int64  \n",
      " 19  SO2 Units          object \n",
      " 20  SO2 Mean           float64\n",
      " 21  SO2 1st Max Value  float64\n",
      " 22  SO2 1st Max Hour   int64  \n",
      " 23  SO2 AQI            float64\n",
      " 24  CO Units           object \n",
      " 25  CO Mean            float64\n",
      " 26  CO 1st Max Value   float64\n",
      " 27  CO 1st Max Hour    int64  \n",
      " 28  CO AQI             float64\n",
      "dtypes: float64(10), int64(10), object(9)\n",
      "memory usage: 386.5+ MB\n",
      "None\n"
     ]
    }
   ],
   "source": [
    "print(df.info())"
   ]
  },
  {
   "cell_type": "code",
   "execution_count": 4,
   "id": "e2ea5d96-76a6-4ade-a887-ed8c8d20b409",
   "metadata": {},
   "outputs": [
    {
     "name": "stdout",
     "output_type": "stream",
     "text": [
      "         Unnamed: 0    State Code   County Code      Site Num      NO2 Mean  \\\n",
      "count  1.746661e+06  1.746661e+06  1.746661e+06  1.746661e+06  1.746661e+06   \n",
      "mean   5.471414e+04  2.230907e+01  7.169381e+01  1.118214e+03  1.282193e+01   \n",
      "std    3.372908e+04  1.725621e+01  7.948023e+01  2.003103e+03  9.504814e+00   \n",
      "min    0.000000e+00  1.000000e+00  1.000000e+00  1.000000e+00 -2.000000e+00   \n",
      "25%    2.575300e+04  6.000000e+00  1.700000e+01  9.000000e+00  5.750000e+00   \n",
      "50%    5.304500e+04  1.700000e+01  5.900000e+01  6.000000e+01  1.073913e+01   \n",
      "75%    8.033600e+04  4.000000e+01  9.700000e+01  1.039000e+03  1.771364e+01   \n",
      "max    1.345750e+05  8.000000e+01  6.500000e+02  9.997000e+03  1.395417e+02   \n",
      "\n",
      "       NO2 1st Max Value  NO2 1st Max Hour       NO2 AQI       O3 Mean  \\\n",
      "count       1.746661e+06      1.746661e+06  1.746661e+06  1.746661e+06   \n",
      "mean        2.541485e+01      1.173102e+01  2.389822e+01  2.612485e-02   \n",
      "std         1.599963e+01      7.877501e+00  1.516280e+01  1.136974e-02   \n",
      "min        -2.000000e+00      0.000000e+00  0.000000e+00  0.000000e+00   \n",
      "25%         1.300000e+01      5.000000e+00  1.200000e+01  1.787500e-02   \n",
      "50%         2.400000e+01      9.000000e+00  2.300000e+01  2.587500e-02   \n",
      "75%         3.570000e+01      2.000000e+01  3.300000e+01  3.391700e-02   \n",
      "max         2.670000e+02      2.300000e+01  1.320000e+02  9.508300e-02   \n",
      "\n",
      "       O3 1st Max Value  O3 1st Max Hour        O3 AQI      SO2 Mean  \\\n",
      "count      1.746661e+06     1.746661e+06  1.746661e+06  1.746661e+06   \n",
      "mean       3.920331e-02     1.017053e+01  3.605012e+01  1.870364e+00   \n",
      "std        1.534362e-02     4.003144e+00  1.978042e+01  2.760435e+00   \n",
      "min        0.000000e+00     0.000000e+00  0.000000e+00 -2.000000e+00   \n",
      "25%        2.900000e-02     9.000000e+00  2.500000e+01  2.565220e-01   \n",
      "50%        3.800000e-02     1.000000e+01  3.300000e+01  9.875000e-01   \n",
      "75%        4.800000e-02     1.100000e+01  4.200000e+01  2.325000e+00   \n",
      "max        1.410000e-01     2.300000e+01  2.180000e+02  3.216250e+02   \n",
      "\n",
      "       SO2 1st Max Value  SO2 1st Max Hour        SO2 AQI       CO Mean  \\\n",
      "count       1.746661e+06      1.746661e+06  873754.000000  1.746661e+06   \n",
      "mean        4.492185e+00      9.664906e+00       7.115945  3.682177e-01   \n",
      "std         7.679866e+00      6.731228e+00      11.937473  3.140231e-01   \n",
      "min        -2.000000e+00      0.000000e+00       0.000000 -4.375000e-01   \n",
      "25%         8.000000e-01      5.000000e+00       1.000000  1.834580e-01   \n",
      "50%         2.000000e+00      8.000000e+00       3.000000  2.926250e-01   \n",
      "75%         5.000000e+00      1.400000e+01       9.000000  4.666670e-01   \n",
      "max         3.510000e+02      2.300000e+01     200.000000  7.508333e+00   \n",
      "\n",
      "       CO 1st Max Value  CO 1st Max Hour         CO AQI  \n",
      "count      1.746661e+06     1.746661e+06  873338.000000  \n",
      "mean       6.201067e-01     7.875026e+00       5.996595  \n",
      "std        6.439361e-01     7.978844e+00       5.851836  \n",
      "min       -4.000000e-01     0.000000e+00       0.000000  \n",
      "25%        2.920000e-01     0.000000e+00       2.000000  \n",
      "50%        4.000000e-01     6.000000e+00       5.000000  \n",
      "75%        8.000000e-01     1.300000e+01       8.000000  \n",
      "max        1.990000e+01     2.300000e+01     201.000000  \n"
     ]
    }
   ],
   "source": [
    "print(df.describe())"
   ]
  },
  {
   "cell_type": "code",
   "execution_count": 5,
   "id": "2e5e726c-84d3-4f56-99d6-a9060e54edf0",
   "metadata": {},
   "outputs": [
    {
     "data": {
      "text/plain": [
       "Unnamed: 0                0\n",
       "State Code                0\n",
       "County Code               0\n",
       "Site Num                  0\n",
       "Address                   0\n",
       "State                     0\n",
       "County                    0\n",
       "City                      0\n",
       "Date Local                0\n",
       "NO2 Units                 0\n",
       "NO2 Mean                  0\n",
       "NO2 1st Max Value         0\n",
       "NO2 1st Max Hour          0\n",
       "NO2 AQI                   0\n",
       "O3 Units                  0\n",
       "O3 Mean                   0\n",
       "O3 1st Max Value          0\n",
       "O3 1st Max Hour           0\n",
       "O3 AQI                    0\n",
       "SO2 Units                 0\n",
       "SO2 Mean                  0\n",
       "SO2 1st Max Value         0\n",
       "SO2 1st Max Hour          0\n",
       "SO2 AQI              872907\n",
       "CO Units                  0\n",
       "CO Mean                   0\n",
       "CO 1st Max Value          0\n",
       "CO 1st Max Hour           0\n",
       "CO AQI               873323\n",
       "dtype: int64"
      ]
     },
     "execution_count": 5,
     "metadata": {},
     "output_type": "execute_result"
    }
   ],
   "source": [
    "df.isna().sum()"
   ]
  },
  {
   "cell_type": "code",
   "execution_count": 6,
   "id": "15be2fab-c169-4bde-b8a8-10c9e6af2787",
   "metadata": {},
   "outputs": [],
   "source": [
    "df.dropna(inplace=True)"
   ]
  },
  {
   "cell_type": "code",
   "execution_count": 7,
   "id": "5ff60e5c-673e-45cf-baff-e0188ac63fd2",
   "metadata": {},
   "outputs": [],
   "source": [
    "import skfuzzy as fuzz\n",
    "from skfuzzy import control as ctrl\n",
    "import numpy as np\n",
    "import matplotlib.pyplot as plt"
   ]
  },
  {
   "cell_type": "code",
   "execution_count": 8,
   "id": "ac9ee038-b3bc-40f9-b4a0-32cf11ded8a1",
   "metadata": {},
   "outputs": [],
   "source": [
    "# Input\n",
    "no2 = ctrl.Antecedent(np.arange(-5, 141, 1), 'NO2')\n",
    "o3 = ctrl.Antecedent(np.arange(-1, 0.20, 0.01), 'O3')\n",
    "so2 = ctrl.Antecedent(np.arange(-5, 323, 1), 'SO2')\n",
    "co = ctrl.Antecedent(np.arange(-1, 9, 0.1), 'CO')"
   ]
  },
  {
   "cell_type": "code",
   "execution_count": 9,
   "id": "8230762c-042d-40b0-bbc6-60f380a3e897",
   "metadata": {},
   "outputs": [],
   "source": [
    "# Output \n",
    "health_risk = ctrl.Consequent(np.arange(0, 11, 1), 'health_risk')"
   ]
  },
  {
   "cell_type": "code",
   "execution_count": 10,
   "id": "16e8032c-6dda-414a-af18-5f4dc5e8ede3",
   "metadata": {},
   "outputs": [],
   "source": [
    "# Kuartil dan Min Max NO2 Mean\n",
    "q1=df['NO2 Mean'].quantile(0.25)\n",
    "q2=df['NO2 Mean'].quantile(0.50)\n",
    "q3=df['NO2 Mean'].quantile(0.75)\n",
    "min_val = df['NO2 Mean'].min()\n",
    "max_val = df['NO2 Mean'].max()"
   ]
  },
  {
   "cell_type": "code",
   "execution_count": 11,
   "id": "be5f9886-6205-441c-8a73-faa74c4ecb3b",
   "metadata": {},
   "outputs": [],
   "source": [
    "no2['low'] = fuzz.trimf(no2.universe, [min_val, min_val, q1])\n",
    "no2['moderate'] = fuzz.trimf(no2.universe, [q1, q2, q3])\n",
    "no2['high'] = fuzz.trimf(no2.universe, [q3, max_val, max_val])"
   ]
  },
  {
   "cell_type": "code",
   "execution_count": 12,
   "id": "3f5dbec8-5569-4ef5-b642-3b4eb4c2ad8c",
   "metadata": {},
   "outputs": [],
   "source": [
    "# Kuartil dan Min Max 03 Mean\n",
    "q1=df['O3 Mean'].quantile(0.25)\n",
    "q2=df['O3 Mean'].quantile(0.50)\n",
    "q3=df['O3 Mean'].quantile(0.75)\n",
    "min_val = df['O3 Mean'].min()\n",
    "max_val = df['O3 Mean'].max()"
   ]
  },
  {
   "cell_type": "code",
   "execution_count": 13,
   "id": "8c0ff128-9f72-4463-ba79-90c0fc7d7060",
   "metadata": {},
   "outputs": [],
   "source": [
    "o3['low'] = fuzz.trimf(o3.universe, [min_val, min_val, q1])\n",
    "o3['moderate'] = fuzz.trimf(o3.universe, [q1, q2, q3])\n",
    "o3['high'] = fuzz.trimf(o3.universe, [q3, max_val, max_val])"
   ]
  },
  {
   "cell_type": "code",
   "execution_count": 14,
   "id": "80018485-2c01-4231-ade1-1696a1116cb6",
   "metadata": {},
   "outputs": [],
   "source": [
    "# Kuartil dan Min Max SO2 Mean\n",
    "q1=df['SO2 Mean'].quantile(0.25)\n",
    "q2=df['SO2 Mean'].quantile(0.50)\n",
    "q3=df['SO2 Mean'].quantile(0.75)\n",
    "min_val = df['SO2 Mean'].min()\n",
    "max_val = df['SO2 Mean'].max()"
   ]
  },
  {
   "cell_type": "code",
   "execution_count": 15,
   "id": "fd635916-fc72-4bb0-a410-093c0b151431",
   "metadata": {},
   "outputs": [],
   "source": [
    "so2['low'] = fuzz.trimf(so2.universe, [min_val, min_val, q1])\n",
    "so2['moderate'] = fuzz.trimf(so2.universe, [q1, q2, q3])\n",
    "so2['high'] = fuzz.trimf(so2.universe, [q3, max_val, max_val])"
   ]
  },
  {
   "cell_type": "code",
   "execution_count": 16,
   "id": "e9b096ce-f72f-4118-9a0a-de5924eb3fbd",
   "metadata": {},
   "outputs": [],
   "source": [
    "# Kuartil dan Min Max CO Mean\n",
    "q1=df['CO Mean'].quantile(0.25)\n",
    "q2=df['CO Mean'].quantile(0.50)\n",
    "q3=df['CO Mean'].quantile(0.75)\n",
    "min_val = df['CO Mean'].min()\n",
    "max_val = df['CO Mean'].max()"
   ]
  },
  {
   "cell_type": "code",
   "execution_count": 17,
   "id": "8473fe8f-fb1a-4c00-ab19-8ce14f743233",
   "metadata": {},
   "outputs": [],
   "source": [
    "co['low'] = fuzz.trimf(co.universe, [min_val, min_val, q1])\n",
    "co['moderate'] = fuzz.trimf(co.universe, [q1, q2, q3])\n",
    "co['high'] = fuzz.trimf(co.universe, [q3, max_val, max_val])"
   ]
  },
  {
   "cell_type": "code",
   "execution_count": 18,
   "id": "73f89bd2-39f4-4625-ba28-ad0d290348bd",
   "metadata": {},
   "outputs": [],
   "source": [
    "health_risk['low'] = fuzz.trimf(health_risk.universe, [0, 0, 5])\n",
    "health_risk['moderate'] = fuzz.trimf(health_risk.universe, [3, 5, 7])\n",
    "health_risk['high'] = fuzz.trimf(health_risk.universe, [5, 10, 10])"
   ]
  },
  {
   "cell_type": "raw",
   "id": "22745433-1382-4596-bc36-e20a98ba9368",
   "metadata": {},
   "source": [
    "Rule 1 : no2 tinggi dan o3 tinggi dan so2 tinggi -> health risknya tinggi"
   ]
  },
  {
   "cell_type": "code",
   "execution_count": 19,
   "id": "08a1c4e6-e8e5-4bcd-9981-2ffdfc68d9f3",
   "metadata": {},
   "outputs": [],
   "source": [
    "rule1 = ctrl.Rule(so2['low'] & co['low'] & no2['low'] & o3['low'], health_risk['low'])\n",
    "rule2 = ctrl.Rule(so2['moderate'] | co['moderate'], health_risk['moderate'])\n",
    "rule3 = ctrl.Rule(no2['high'] | o3['high'], health_risk['high'])\n",
    "rule4 = ctrl.Rule((so2['high'] & co['high']) | (no2['high'] & o3['moderate']), health_risk['high'])"
   ]
  },
  {
   "cell_type": "code",
   "execution_count": 20,
   "id": "6c76ebe0-0ea6-4604-990c-adf8e8b9a813",
   "metadata": {},
   "outputs": [],
   "source": [
    "pollution_ctrl = ctrl.ControlSystem([rule1, rule2, rule3, rule4])\n",
    "simulator = ctrl.ControlSystemSimulation(pollution_ctrl)"
   ]
  },
  {
   "cell_type": "code",
   "execution_count": 21,
   "id": "ed32310b-f699-4fbd-8982-adbbe05abe6c",
   "metadata": {},
   "outputs": [],
   "source": [
    "simulator.input['NO2'] = 20\n",
    "simulator.input['O3'] = 25\n",
    "simulator.input['SO2'] = 5\n",
    "simulator.input['CO'] = 0.8"
   ]
  },
  {
   "cell_type": "code",
   "execution_count": 22,
   "id": "ef154d8e-5dfb-46a2-9a1e-8b868b4003bd",
   "metadata": {},
   "outputs": [],
   "source": [
    "simulator.compute()"
   ]
  },
  {
   "cell_type": "code",
   "execution_count": 23,
   "id": "7e5c7cf0-6ac0-428b-9a7e-dda30eebad73",
   "metadata": {},
   "outputs": [
    {
     "name": "stderr",
     "output_type": "stream",
     "text": [
      "C:\\Users\\Alma\\anaconda3\\Lib\\site-packages\\skfuzzy\\control\\fuzzyvariable.py:125: UserWarning: FigureCanvasAgg is non-interactive, and thus cannot be shown\n",
      "  fig.show()\n"
     ]
    },
    {
     "data": {
      "image/png": "[encoded data removed]",
      "text/plain": [
       "<Figure size 640x480 with 1 Axes>"
      ]
     },
     "metadata": {},
     "output_type": "display_data"
    }
   ],
   "source": [
    "health_risk.view(sim=simulator)\n",
    "plt.show()"
   ]
  },
  {
   "cell_type": "code",
   "execution_count": 25,
   "id": "0c4e624a-eea0-4194-96be-087528838e00",
   "metadata": {},
   "outputs": [
    {
     "name": "stderr",
     "output_type": "stream",
     "text": [
      "  0%|                                                                            | 511/436876 [00:01<19:35, 371.07it/s]"
     ]
    },
    {
     "name": "stdout",
     "output_type": "stream",
     "text": [
      "Error at row 469: 'health_risk'\n",
      "Error at row 481: 'health_risk'\n"
     ]
    },
    {
     "name": "stderr",
     "output_type": "stream",
     "text": [
      "  0%|▏                                                                           | 926/436876 [00:02<19:46, 367.44it/s]"
     ]
    },
    {
     "name": "stdout",
     "output_type": "stream",
     "text": [
      "Error at row 873: 'health_risk'\n"
     ]
    },
    {
     "name": "stderr",
     "output_type": "stream",
     "text": [
      "  0%|▏                                                                          | 1146/436876 [00:03<20:32, 353.65it/s]"
     ]
    },
    {
     "name": "stdout",
     "output_type": "stream",
     "text": [
      "Error at row 1096: 'health_risk'\n"
     ]
    },
    {
     "name": "stderr",
     "output_type": "stream",
     "text": [
      "  1%|▍                                                                          | 2575/436876 [00:07<20:21, 355.51it/s]"
     ]
    },
    {
     "name": "stdout",
     "output_type": "stream",
     "text": [
      "Error at row 2526: 'health_risk'\n"
     ]
    },
    {
     "name": "stderr",
     "output_type": "stream",
     "text": [
      "  1%|▊                                                                          | 4545/436876 [00:13<20:12, 356.43it/s]"
     ]
    },
    {
     "name": "stdout",
     "output_type": "stream",
     "text": [
      "Error at row 4498: 'health_risk'\n",
      "Error at row 4499: 'health_risk'\n"
     ]
    },
    {
     "name": "stderr",
     "output_type": "stream",
     "text": [
      "  1%|▊                                                                          | 4652/436876 [00:13<20:57, 343.63it/s]"
     ]
    },
    {
     "name": "stdout",
     "output_type": "stream",
     "text": [
      "Error at row 4589: 'health_risk'\n"
     ]
    },
    {
     "name": "stderr",
     "output_type": "stream",
     "text": [
      "  1%|▊                                                                          | 4723/436876 [00:14<21:07, 341.00it/s]"
     ]
    },
    {
     "name": "stdout",
     "output_type": "stream",
     "text": [
      "Error at row 4684: 'health_risk'\n",
      "Error at row 4688: 'health_risk'\n",
      "Error at row 4706: 'health_risk'\n",
      "Error at row 4710: 'health_risk'\n",
      "Error at row 4717: 'health_risk'\n",
      "Error at row 4724: 'health_risk'\n",
      "Error at row 4754: 'health_risk'\n"
     ]
    },
    {
     "name": "stderr",
     "output_type": "stream",
     "text": [
      "  1%|▊                                                                          | 5091/436876 [00:15<20:01, 359.41it/s]"
     ]
    },
    {
     "name": "stdout",
     "output_type": "stream",
     "text": [
      "Error at row 5024: 'health_risk'\n",
      "Error at row 5085: 'health_risk'\n"
     ]
    },
    {
     "name": "stderr",
     "output_type": "stream",
     "text": [
      "  1%|▉                                                                          | 5163/436876 [00:15<20:30, 350.86it/s]"
     ]
    },
    {
     "name": "stdout",
     "output_type": "stream",
     "text": [
      "Error at row 5114: 'health_risk'\n",
      "Error at row 5138: 'health_risk'\n",
      "Error at row 5153: 'health_risk'\n",
      "Error at row 5175: 'health_risk'\n"
     ]
    },
    {
     "name": "stderr",
     "output_type": "stream",
     "text": [
      "  1%|▉                                                                          | 5236/436876 [00:15<21:17, 337.77it/s]"
     ]
    },
    {
     "name": "stdout",
     "output_type": "stream",
     "text": [
      "Error at row 5199: 'health_risk'\n"
     ]
    },
    {
     "name": "stderr",
     "output_type": "stream",
     "text": [
      "  1%|▉                                                                          | 5566/436876 [00:16<19:41, 364.93it/s]"
     ]
    },
    {
     "name": "stdout",
     "output_type": "stream",
     "text": [
      "Error at row 5510: 'health_risk'\n"
     ]
    },
    {
     "name": "stderr",
     "output_type": "stream",
     "text": [
      "  1%|█                                                                          | 5934/436876 [00:17<20:36, 348.56it/s]"
     ]
    },
    {
     "name": "stdout",
     "output_type": "stream",
     "text": [
      "Error at row 5864: 'health_risk'\n"
     ]
    },
    {
     "name": "stderr",
     "output_type": "stream",
     "text": [
      "  2%|█▎                                                                         | 7458/436876 [00:22<22:15, 321.51it/s]"
     ]
    },
    {
     "name": "stdout",
     "output_type": "stream",
     "text": [
      "Error at row 7426: 'health_risk'\n"
     ]
    },
    {
     "name": "stderr",
     "output_type": "stream",
     "text": [
      "  2%|█▎                                                                         | 7609/436876 [00:22<29:47, 240.16it/s]"
     ]
    },
    {
     "name": "stdout",
     "output_type": "stream",
     "text": [
      "Error at row 7563: 'health_risk'\n",
      "Error at row 7600: 'health_risk'\n",
      "Error at row 7601: 'health_risk'\n",
      "Error at row 7603: 'health_risk'\n",
      "Error at row 7605: 'health_risk'\n",
      "Error at row 7608: 'health_risk'\n",
      "Error at row 7614: 'health_risk'\n",
      "Error at row 7615: 'health_risk'\n"
     ]
    },
    {
     "name": "stderr",
     "output_type": "stream",
     "text": [
      "  2%|█▎                                                                         | 7665/436876 [00:23<28:33, 250.48it/s]"
     ]
    },
    {
     "name": "stdout",
     "output_type": "stream",
     "text": [
      "Error at row 7625: 'health_risk'\n",
      "Error at row 7628: 'health_risk'\n",
      "Error at row 7629: 'health_risk'\n",
      "Error at row 7632: 'health_risk'\n",
      "Error at row 7636: 'health_risk'\n",
      "Error at row 7637: 'health_risk'\n",
      "Error at row 7638: 'health_risk'\n",
      "Error at row 7639: 'health_risk'\n",
      "Error at row 7663: 'health_risk'\n",
      "Error at row 7670: 'health_risk'\n",
      "Error at row 7682: 'health_risk'\n"
     ]
    },
    {
     "name": "stderr",
     "output_type": "stream",
     "text": [
      "  2%|█▎                                                                         | 7754/436876 [00:23<21:33, 331.76it/s]\n"
     ]
    },
    {
     "name": "stdout",
     "output_type": "stream",
     "text": [
      "Error at row 7740: 'health_risk'\n",
      "Error at row 7753: 'health_risk'\n"
     ]
    },
    {
     "ename": "KeyboardInterrupt",
     "evalue": "",
     "output_type": "error",
     "traceback": [
      "\u001b[1;31m---------------------------------------------------------------------------\u001b[0m",
      "\u001b[1;31mKeyboardInterrupt\u001b[0m                         Traceback (most recent call last)",
      "Cell \u001b[1;32mIn[25], line 18\u001b[0m\n\u001b[0;32m     15\u001b[0m simulator\u001b[38;5;241m.\u001b[39minput[\u001b[38;5;124m'\u001b[39m\u001b[38;5;124mSO2\u001b[39m\u001b[38;5;124m'\u001b[39m] \u001b[38;5;241m=\u001b[39m df[\u001b[38;5;124m'\u001b[39m\u001b[38;5;124mSO2 Mean\u001b[39m\u001b[38;5;124m'\u001b[39m]\u001b[38;5;241m.\u001b[39miloc[i]\n\u001b[0;32m     16\u001b[0m simulator\u001b[38;5;241m.\u001b[39minput[\u001b[38;5;124m'\u001b[39m\u001b[38;5;124mCO\u001b[39m\u001b[38;5;124m'\u001b[39m] \u001b[38;5;241m=\u001b[39m df[\u001b[38;5;124m'\u001b[39m\u001b[38;5;124mCO Mean\u001b[39m\u001b[38;5;124m'\u001b[39m]\u001b[38;5;241m.\u001b[39miloc[i]\n\u001b[1;32m---> 18\u001b[0m simulator\u001b[38;5;241m.\u001b[39mcompute()\n\u001b[0;32m     20\u001b[0m \u001b[38;5;66;03m# Actual risk (ground truth)\u001b[39;00m\n\u001b[0;32m     21\u001b[0m actual \u001b[38;5;241m=\u001b[39m \u001b[38;5;241m1\u001b[39m \u001b[38;5;28;01mif\u001b[39;00m df[\u001b[38;5;124m'\u001b[39m\u001b[38;5;124mO3 AQI\u001b[39m\u001b[38;5;124m'\u001b[39m]\u001b[38;5;241m.\u001b[39miloc[i] \u001b[38;5;241m>\u001b[39m \u001b[38;5;241m50\u001b[39m \u001b[38;5;129;01mand\u001b[39;00m df[\u001b[38;5;124m'\u001b[39m\u001b[38;5;124mSO2 AQI\u001b[39m\u001b[38;5;124m'\u001b[39m]\u001b[38;5;241m.\u001b[39miloc[i] \u001b[38;5;241m>\u001b[39m \u001b[38;5;241m60\u001b[39m \u001b[38;5;28;01melse\u001b[39;00m \u001b[38;5;241m0\u001b[39m\n",
      "File \u001b[1;32m~\\anaconda3\\Lib\\site-packages\\skfuzzy\\control\\controlsystem.py:364\u001b[0m, in \u001b[0;36mControlSystemSimulation.compute\u001b[1;34m(self)\u001b[0m\n\u001b[0;32m    362\u001b[0m     \u001b[38;5;28;01mif\u001b[39;00m antecedent\u001b[38;5;241m.\u001b[39minput[\u001b[38;5;28mself\u001b[39m] \u001b[38;5;129;01mis\u001b[39;00m \u001b[38;5;28;01mNone\u001b[39;00m:\n\u001b[0;32m    363\u001b[0m         \u001b[38;5;28;01mraise\u001b[39;00m \u001b[38;5;167;01mValueError\u001b[39;00m(\u001b[38;5;124m\"\u001b[39m\u001b[38;5;124mAll antecedents must have input values!\u001b[39m\u001b[38;5;124m\"\u001b[39m)\n\u001b[1;32m--> 364\u001b[0m     CrispValueCalculator(antecedent, \u001b[38;5;28mself\u001b[39m)\u001b[38;5;241m.\u001b[39mfuzz(antecedent\u001b[38;5;241m.\u001b[39minput[\u001b[38;5;28mself\u001b[39m])\n\u001b[0;32m    366\u001b[0m \u001b[38;5;66;03m# Calculate rules, taking inputs and accumulating outputs\u001b[39;00m\n\u001b[0;32m    367\u001b[0m first \u001b[38;5;241m=\u001b[39m \u001b[38;5;28;01mTrue\u001b[39;00m\n",
      "File \u001b[1;32m~\\anaconda3\\Lib\\site-packages\\skfuzzy\\control\\controlsystem.py:641\u001b[0m, in \u001b[0;36mCrispValueCalculator.fuzz\u001b[1;34m(self, value)\u001b[0m\n\u001b[0;32m    638\u001b[0m \u001b[38;5;28;01melse\u001b[39;00m:\n\u001b[0;32m    639\u001b[0m     \u001b[38;5;28;01mfor\u001b[39;00m term \u001b[38;5;129;01min\u001b[39;00m \u001b[38;5;28mself\u001b[39m\u001b[38;5;241m.\u001b[39mvar\u001b[38;5;241m.\u001b[39mterms\u001b[38;5;241m.\u001b[39mvalues():\n\u001b[0;32m    640\u001b[0m         term\u001b[38;5;241m.\u001b[39mmembership_value[\u001b[38;5;28mself\u001b[39m\u001b[38;5;241m.\u001b[39msim] \u001b[38;5;241m=\u001b[39m \\\n\u001b[1;32m--> 641\u001b[0m             interp_membership(\u001b[38;5;28mself\u001b[39m\u001b[38;5;241m.\u001b[39mvar\u001b[38;5;241m.\u001b[39muniverse, term\u001b[38;5;241m.\u001b[39mmf, value)\n",
      "File \u001b[1;32m~\\anaconda3\\Lib\\site-packages\\skfuzzy\\fuzzymath\\fuzzy_ops.py:570\u001b[0m, in \u001b[0;36minterp_membership\u001b[1;34m(x, xmf, xx, zero_outside_x)\u001b[0m\n\u001b[0;32m    568\u001b[0m \u001b[38;5;28;01melse\u001b[39;00m:\n\u001b[0;32m    569\u001b[0m     kwargs \u001b[38;5;241m=\u001b[39m (\u001b[38;5;241m0.0\u001b[39m, \u001b[38;5;241m0.0\u001b[39m)\n\u001b[1;32m--> 570\u001b[0m \u001b[38;5;28;01mreturn\u001b[39;00m np\u001b[38;5;241m.\u001b[39minterp(xx, x, xmf, left\u001b[38;5;241m=\u001b[39mkwargs[\u001b[38;5;241m0\u001b[39m], right\u001b[38;5;241m=\u001b[39mkwargs[\u001b[38;5;241m1\u001b[39m])\n",
      "File \u001b[1;32m~\\anaconda3\\Lib\\site-packages\\numpy\\lib\\function_base.py:1599\u001b[0m, in \u001b[0;36minterp\u001b[1;34m(x, xp, fp, left, right, period)\u001b[0m\n\u001b[0;32m   1596\u001b[0m     xp \u001b[38;5;241m=\u001b[39m np\u001b[38;5;241m.\u001b[39mconcatenate((xp[\u001b[38;5;241m-\u001b[39m\u001b[38;5;241m1\u001b[39m:]\u001b[38;5;241m-\u001b[39mperiod, xp, xp[\u001b[38;5;241m0\u001b[39m:\u001b[38;5;241m1\u001b[39m]\u001b[38;5;241m+\u001b[39mperiod))\n\u001b[0;32m   1597\u001b[0m     fp \u001b[38;5;241m=\u001b[39m np\u001b[38;5;241m.\u001b[39mconcatenate((fp[\u001b[38;5;241m-\u001b[39m\u001b[38;5;241m1\u001b[39m:], fp, fp[\u001b[38;5;241m0\u001b[39m:\u001b[38;5;241m1\u001b[39m]))\n\u001b[1;32m-> 1599\u001b[0m \u001b[38;5;28;01mreturn\u001b[39;00m interp_func(x, xp, fp, left, right)\n",
      "\u001b[1;31mKeyboardInterrupt\u001b[0m: "
     ]
    }
   ],
   "source": [
    "from sklearn.metrics import f1_score, accuracy_score, confusion_matrix, ConfusionMatrixDisplay\n",
    "from tqdm import tqdm \n",
    "\n",
    "threshold_risk = 5 \n",
    "\n",
    "# INIT list\n",
    "y_true = []\n",
    "y_pred = []\n",
    "\n",
    "for i in tqdm(range(len(df))):\n",
    "    try:\n",
    "        # Input ke simulator\n",
    "        simulator.input['NO2'] = df['NO2 Mean'].iloc[i]\n",
    "        simulator.input['O3'] = df['O3 Mean'].iloc[i]\n",
    "        simulator.input['SO2'] = df['SO2 Mean'].iloc[i]\n",
    "        simulator.input['CO'] = df['CO Mean'].iloc[i]\n",
    "        \n",
    "        simulator.compute()\n",
    "\n",
    "        # Actual risk (ground truth)\n",
    "        actual = 1 if df['O3 AQI'].iloc[i] > 50 and df['SO2 AQI'].iloc[i] > 60 else 0\n",
    "\n",
    "        # Predicted risk → pakai threshold sesuai MF\n",
    "        output_value = simulator.output['health_risk']\n",
    "\n",
    "        if output_value > threshold_risk:\n",
    "            predicted = 1\n",
    "        else:\n",
    "            predicted = 0\n",
    "\n",
    "        # Append\n",
    "        y_true.append(actual)\n",
    "        y_pred.append(predicted)\n",
    "\n",
    "    except Exception as e:\n",
    "        print(f\"Error at row {i}: {e}\")\n",
    "        continue \n",
    "\n",
    "score = f1_score(y_true, y_pred)\n",
    "akurasi = accuracy_score(y_true, y_pred)\n",
    "\n",
    "print(\"F1-score:\", score)\n",
    "print(\"Accuracy:\", akurasi)\n",
    "\n",
    "cm = confusion_matrix(y_true, y_pred)\n",
    "disp = ConfusionMatrixDisplay(confusion_matrix=cm, display_labels=[\"Low Risk (0)\", \"High Risk (1)\"])\n",
    "disp.plot()"
   ]
  },
  {
   "cell_type": "code",
   "execution_count": null,
   "id": "1127b700-a57d-428c-a929-958019ec1e35",
   "metadata": {},
   "outputs": [],
   "source": []
  }
 ],
 "metadata": {
  "kernelspec": {
   "display_name": "Python [conda env:base] *",
   "language": "python",
   "name": "conda-base-py"
  },
  "language_info": {
   "codemirror_mode": {
    "name": "ipython",
    "version": 3
   },
   "file_extension": ".py",
   "mimetype": "text/x-python",
   "name": "python",
   "nbconvert_exporter": "python",
   "pygments_lexer": "ipython3",
   "version": "3.12.7"
  }
 },
 "nbformat": 4,
 "nbformat_minor": 5
}
